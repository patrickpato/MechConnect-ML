{
  "nbformat": 4,
  "nbformat_minor": 0,
  "metadata": {
    "colab": {
      "provenance": []
    },
    "kernelspec": {
      "name": "python3",
      "display_name": "Python 3"
    },
    "language_info": {
      "name": "python"
    }
  },
  "cells": [
    {
      "cell_type": "code",
      "execution_count": 20,
      "metadata": {
        "id": "TU8p_7Z4PXXF"
      },
      "outputs": [],
      "source": [
        "import re\n",
        "import nltk \n",
        "import string\n",
        "import joblib\n",
        "import numpy as np"
      ]
    },
    {
      "cell_type": "code",
      "source": [
        "clf = joblib.load(\"/content/drive/MyDrive/CarReviews/carDiagnosticPipeline.sav\")"
      ],
      "metadata": {
        "id": "uN32YeY_Pg3_"
      },
      "execution_count": 2,
      "outputs": []
    },
    {
      "cell_type": "code",
      "source": [
        "def load_stopwords(stopwords_file):\n",
        "  with open(stopwords_file, \"r\", encoding=\"utf-8\") as f:\n",
        "    stopwords = f.readlines()\n",
        "    stop_set = set(m.strip() for m in stopwords)\n",
        "    return list(frozenset(stop_set))\n",
        "stopwords = load_stopwords(\"/content/stopwords.txt\")"
      ],
      "metadata": {
        "id": "An7R8GI5QsQ_"
      },
      "execution_count": 5,
      "outputs": []
    },
    {
      "cell_type": "code",
      "source": [
        "prompt = input(\"Describe your car problem: \")"
      ],
      "metadata": {
        "colab": {
          "base_uri": "https://localhost:8080/"
        },
        "id": "OZ3zPuJpQPtx",
        "outputId": "c7c74408-cd79-48cb-c718-8ae5a070aced"
      },
      "execution_count": 73,
      "outputs": [
        {
          "name": "stdout",
          "output_type": "stream",
          "text": [
            "Describe your car problem: My car has a longer stopping distance after applying brakes\n"
          ]
        }
      ]
    },
    {
      "cell_type": "code",
      "source": [
        "clean_prompt = ' '.join([word for word in prompt.lower().split() if word not in (stopwords)]) \n"
      ],
      "metadata": {
        "colab": {
          "base_uri": "https://localhost:8080/",
          "height": 35
        },
        "id": "bwiwaj3KQgUu",
        "outputId": "4d74e98c-1464-4a88-c860-8b049c6e2471"
      },
      "execution_count": 75,
      "outputs": [
        {
          "output_type": "execute_result",
          "data": {
            "text/plain": [
              "'car longer stopping distance applying brakes'"
            ],
            "application/vnd.google.colaboratory.intrinsic+json": {
              "type": "string"
            }
          },
          "metadata": {},
          "execution_count": 75
        }
      ]
    },
    {
      "cell_type": "code",
      "source": [
        "probs = clf.predict_proba([clean_prompt])\n",
        "best_n = np.argsort(probs, axis=1)[:,-3:]\n",
        "print(\"Here are the most probable issues with your car in increasing likelihood: \" + str(clf.classes_[best_n]))"
      ],
      "metadata": {
        "colab": {
          "base_uri": "https://localhost:8080/"
        },
        "id": "ULWhh9ggV3rw",
        "outputId": "953d383b-3770-4a8d-81ae-430d7d5846b0"
      },
      "execution_count": 82,
      "outputs": [
        {
          "output_type": "stream",
          "name": "stdout",
          "text": [
            "Here are the most probable issues with your car in increasing likelihood: [['Suspension Bushing Wear' 'EGR Valve Malfunction'\n",
            "  'Brake Master Cylinder']]\n"
          ]
        }
      ]
    },
    {
      "cell_type": "code",
      "source": [
        "issue = clf.predict([clean_prompt])\n",
        "issue"
      ],
      "metadata": {
        "colab": {
          "base_uri": "https://localhost:8080/"
        },
        "id": "XZY4OePIRc3N",
        "outputId": "9d63d81f-fa9f-4920-e952-db36f53e7747"
      },
      "execution_count": 79,
      "outputs": [
        {
          "output_type": "execute_result",
          "data": {
            "text/plain": [
              "array(['Brake Master Cylinder'], dtype=object)"
            ]
          },
          "metadata": {},
          "execution_count": 79
        }
      ]
    },
    {
      "cell_type": "code",
      "source": [
        "*"
      ],
      "metadata": {
        "id": "mky-eARkR9qe"
      },
      "execution_count": null,
      "outputs": []
    }
  ]
}