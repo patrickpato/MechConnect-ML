{
  "nbformat": 4,
  "nbformat_minor": 0,
  "metadata": {
    "colab": {
      "provenance": [],
      "include_colab_link": true
    },
    "kernelspec": {
      "name": "python3",
      "display_name": "Python 3"
    },
    "language_info": {
      "name": "python"
    }
  },
  "cells": [
    {
      "cell_type": "markdown",
      "metadata": {
        "id": "view-in-github",
        "colab_type": "text"
      },
      "source": [
        "<a href=\"https://colab.research.google.com/github/patrickpato/MechConnect-ML/blob/main/Prompt.ipynb\" target=\"_parent\"><img src=\"https://colab.research.google.com/assets/colab-badge.svg\" alt=\"Open In Colab\"/></a>"
      ]
    },
    {
      "cell_type": "code",
      "source": [
        "# Load drive\n",
        "from google.colab import drive\n",
        "drive.mount('/content/drive')"
      ],
      "metadata": {
        "id": "qR5qZvs5ueKm",
        "colab": {
          "base_uri": "https://localhost:8080/"
        },
        "outputId": "413362ee-3064-4e44-dd8d-8a18c28771c9"
      },
      "execution_count": 1,
      "outputs": [
        {
          "output_type": "stream",
          "name": "stdout",
          "text": [
            "Mounted at /content/drive\n"
          ]
        }
      ]
    },
    {
      "cell_type": "code",
      "source": [
        "# Imports\n",
        "import pandas as pd\n",
        "import numpy as np\n",
        "import tensorflow as tf\n",
        "from tensorflow.keras.preprocessing.sequence import pad_sequences\n",
        "from tensorflow.keras.models import Sequential\n",
        "from tensorflow.keras.layers import LSTM, Embedding, Dense\n",
        "from tensorflow.keras.preprocessing.text import one_hot\n",
        "from tensorflow.keras.layers import Dropout\n",
        "from sklearn.model_selection import train_test_split\n",
        "from sklearn.preprocessing import LabelEncoder\n",
        "from keras.utils import to_categorical\n",
        "import nltk\n",
        "import re\n",
        "from nltk.corpus import stopwords\n",
        "from nltk.stem.porter import PorterStemmer"
      ],
      "metadata": {
        "id": "6V_fK_nHkRXB"
      },
      "execution_count": 2,
      "outputs": []
    },
    {
      "cell_type": "code",
      "source": [
        "# Load the CSV data\n",
        "df = pd.read_csv('/content/drive/MyDrive/MechConnectData/prompts.csv')\n",
        "df = df.dropna()"
      ],
      "metadata": {
        "id": "BmJNJXlckXdY"
      },
      "execution_count": 3,
      "outputs": []
    },
    {
      "cell_type": "code",
      "source": [
        "# Get the train features\n",
        "X = df.drop('Issue', axis=1)"
      ],
      "metadata": {
        "id": "m1N125Ykkcgp"
      },
      "execution_count": 4,
      "outputs": []
    },
    {
      "cell_type": "code",
      "source": [
        "# Get test features\n",
        "y = df['Issue']"
      ],
      "metadata": {
        "id": "lGLA3bZtkibN"
      },
      "execution_count": 5,
      "outputs": []
    },
    {
      "cell_type": "code",
      "source": [
        "# Vocabulary size\n",
        "voc_size = 5000"
      ],
      "metadata": {
        "id": "V6PZGCvPkl4a"
      },
      "execution_count": 6,
      "outputs": []
    },
    {
      "cell_type": "code",
      "source": [
        "# One-hot representation for prompts\n",
        "prompt = X.copy()\n",
        "prompt.reset_index(inplace=True)"
      ],
      "metadata": {
        "id": "fzpp6fRnksd0"
      },
      "execution_count": 7,
      "outputs": []
    },
    {
      "cell_type": "code",
      "source": [
        "# Data preprocessing\n",
        "nltk.download('stopwords')\n",
        "ps = PorterStemmer()\n",
        "corpus = []\n",
        "\n",
        "for i in range(len(prompt)):\n",
        "    prompt_review = re.sub('[^a-zA-Z]', ' ', prompt['prompt'][i])\n",
        "    prompt_review = prompt_review.lower()\n",
        "    prompt_review = prompt_review.split()\n",
        "\n",
        "    prompt_review = [ps.stem(word) for word in prompt_review if not word in stopwords.words('english')]\n",
        "    prompt_review = ' '.join(prompt_review)\n",
        "    corpus.append(prompt_review)\n",
        "\n",
        "onehot_repr = [one_hot(words, voc_size) for words in corpus]\n"
      ],
      "metadata": {
        "colab": {
          "base_uri": "https://localhost:8080/"
        },
        "id": "EFKPdMGFkwIi",
        "outputId": "62b34c2b-e619-4085-c6be-aa240bb447a9"
      },
      "execution_count": 8,
      "outputs": [
        {
          "output_type": "stream",
          "name": "stderr",
          "text": [
            "[nltk_data] Downloading package stopwords to /root/nltk_data...\n",
            "[nltk_data]   Unzipping corpora/stopwords.zip.\n"
          ]
        }
      ]
    },
    {
      "cell_type": "code",
      "source": [
        "# Padding sequences\n",
        "sent_length = 20\n",
        "embedded_docs = pad_sequences(onehot_repr, padding='pre', maxlen=sent_length)\n"
      ],
      "metadata": {
        "id": "8l1S_LpllUoz"
      },
      "execution_count": 9,
      "outputs": []
    },
    {
      "cell_type": "code",
      "source": [
        "# Creating model\n",
        "embedding_vector_features = 150\n",
        "model = Sequential()\n",
        "model.add(Embedding(voc_size, embedding_vector_features, input_length=sent_length))\n",
        "# model.add(Dropout(0.3))\n",
        "model.add(LSTM(300, return_sequences=False))\n",
        "# model.add(Dropout(0.3))\n",
        "model.add(Dense(len(np.unique(y)), activation='softmax'))\n",
        "model.compile(loss='categorical_crossentropy', optimizer='adam', metrics=['accuracy'])\n"
      ],
      "metadata": {
        "id": "o9TpMbSnlezb"
      },
      "execution_count": 10,
      "outputs": []
    },
    {
      "cell_type": "code",
      "source": [
        "# Prepare data\n",
        "X_final = np.array(embedded_docs)\n",
        "\n",
        "label_encoder = LabelEncoder()\n",
        "y_encoded = label_encoder.fit_transform(y)\n",
        "y_encoded = to_categorical(y_encoded)\n",
        "\n",
        "X_train, X_test, y_train, y_test = train_test_split(X_final, y_encoded, test_size=0.3, random_state=45)\n"
      ],
      "metadata": {
        "id": "PgPhku8glhPK"
      },
      "execution_count": 11,
      "outputs": []
    },
    {
      "cell_type": "code",
      "source": [
        "# Model Training\n",
        "model.fit(X_train, y_train, validation_data=(X_test, y_test), epochs=50, batch_size=50)\n",
        "# change epoch size"
      ],
      "metadata": {
        "id": "CggE2ZPdljvi",
        "colab": {
          "base_uri": "https://localhost:8080/"
        },
        "outputId": "cd1a7c29-bf1e-4c0f-b8c3-1a5e88b324e2"
      },
      "execution_count": null,
      "outputs": [
        {
          "output_type": "stream",
          "name": "stdout",
          "text": [
            "Epoch 1/50\n",
            "145/357 [===========>..................] - ETA: 27s - loss: 5.6700 - accuracy: 0.0131"
          ]
        }
      ]
    },
    {
      "cell_type": "code",
      "source": [
        " # function to test the model on custom sentences\n",
        "def predict_label(sentence):\n",
        "    # Preprocess the input sentence\n",
        "    sentence = re.sub('[^a-zA-Z]', ' ', sentence)\n",
        "    sentence = sentence.lower()\n",
        "    sentence = sentence.split()\n",
        "    sentence = [ps.stem(word) for word in sentence if not word in stopwords.words('english')]\n",
        "    sentence = ' '.join(sentence)\n",
        "\n",
        "    # One-hot encode and pad the input sentence\n",
        "    sentence_onehot = [one_hot(sentence, voc_size)]\n",
        "    sentence_padded = pad_sequences(sentence_onehot, padding='pre', maxlen=sent_length)\n",
        "\n",
        "    # Make a prediction\n",
        "    prediction = model.predict(sentence_padded)\n",
        "\n",
        "    # Convert the prediction to a class label\n",
        "    predicted_label = label_encoder.classes_[np.argmax(prediction)]\n",
        "\n",
        "    return predicted_label\n"
      ],
      "metadata": {
        "id": "WODeYZiNlmxQ"
      },
      "execution_count": null,
      "outputs": []
    },
    {
      "cell_type": "code",
      "source": [
        "# Example usage of the predictor function:\n",
        "input_sentence = \"My Ac does not go to the desired temprature.\"\n",
        "predicted_label = predict_label(input_sentence)\n",
        "print(f\"Predicted Issue: {predicted_label}\")"
      ],
      "metadata": {
        "id": "Cd5JSyMMpw1P"
      },
      "execution_count": null,
      "outputs": []
    },
    {
      "cell_type": "code",
      "source": [
        "input_sentence = 'Sound in my gear box.'\n",
        "predicted_label = predict_label(input_sentence)\n",
        "print(f'Predicted Issue: {predicted_label}')"
      ],
      "metadata": {
        "id": "05qEAGM8qJxf"
      },
      "execution_count": null,
      "outputs": []
    },
    {
      "cell_type": "code",
      "source": [
        "model.save('prompt_model.h5')"
      ],
      "metadata": {
        "id": "VVjnIEXHQKdI"
      },
      "execution_count": null,
      "outputs": []
    },
    {
      "cell_type": "code",
      "source": [
        "import pickle\n",
        "\n",
        "# save the iris classification model as a pickle file\n",
        "model_pkl_file = \"prompt_model.h5.pkl\"\n",
        "\n",
        "with open(model_pkl_file, 'wb') as file:\n",
        "    pickle.dump(model, file)\n"
      ],
      "metadata": {
        "id": "BGzNkvFCcr4O"
      },
      "execution_count": null,
      "outputs": []
    },
    {
      "cell_type": "code",
      "source": [
        "from google.colab import files\n",
        "\n",
        "files.download('prompt_model.h5')\n"
      ],
      "metadata": {
        "id": "xjLkW2DwQWL9"
      },
      "execution_count": null,
      "outputs": []
    },
    {
      "cell_type": "code",
      "source": [
        "# Save the model for future use\n",
        "model.save('/content/drive/MyDrive/ML/prompt_model.h5')"
      ],
      "metadata": {
        "id": "rxekiLQCtV5U"
      },
      "execution_count": null,
      "outputs": []
    },
    {
      "cell_type": "code",
      "source": [
        "# load the trained model\n",
        "model.load_weights('/content/drive/MyDrive/ML/prompt_model.h5')"
      ],
      "metadata": {
        "id": "sA9KQ3krtt7C"
      },
      "execution_count": null,
      "outputs": []
    }
  ]
}